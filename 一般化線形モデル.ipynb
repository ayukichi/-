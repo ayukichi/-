{
 "cells": [
  {
   "attachments": {},
   "cell_type": "markdown",
   "metadata": {},
   "source": [
    "# 一般化線形モデル"
   ]
  },
  {
   "cell_type": "code",
   "execution_count": 3,
   "metadata": {},
   "outputs": [],
   "source": [
    "from scipy.stats import poisson\n",
    "import matplotlib.pyplot as plt\n",
    "import numpy as np"
   ]
  },
  {
   "cell_type": "code",
   "execution_count": 5,
   "metadata": {},
   "outputs": [
    {
     "data": {
      "image/png": "[encoded data removed]",
      "text/plain": [
       "<Figure size 432x288 with 1 Axes>"
      ]
     },
     "metadata": {
      "needs_background": "light"
     },
     "output_type": "display_data"
    }
   ],
   "source": [
    "x = np.arange(1,50,1)\n",
    "y1 = [poisson.pmf(i, 10) for i in x]\n",
    "y2 = [poisson.pmf(i, 20) for i in x]\n",
    "y3 = [poisson.pmf(i, 30) for i in x]\n",
    "\n",
    "plt.bar(x, y1, align='center', width=0.4, color='red', alpha=0.5, label='Poisson λ= %d' % 10)\n",
    "plt.bar(x, y2, align='center', width=0.4, color='green', alpha=0.5, label='Poisson λ= %d' % 20)\n",
    "plt.bar(x, y3, align='center', width=0.4, color='blue', alpha=0.5, label='Poisson λ= %d' % 30)\n",
    "plt.xlabel('x')\n",
    "plt.ylabel('probability')\n",
    "plt.legend()\n",
    "plt.show()"
   ]
  },
  {
   "attachments": {},
   "cell_type": "markdown",
   "metadata": {},
   "source": [
    "ポワソン分布はパラメータλによって分布が変わることが確認できる。\\\n",
    "例えば、平均種子数λiが与えられると、植物個体iから取得できる種子数yiが従う確率分布を得ることができる"
   ]
  },
  {
   "attachments": {},
   "cell_type": "markdown",
   "metadata": {},
   "source": [
    "リンク関数を以下のように設定する。\n",
    "$$\\log\\lambda_i=\\beta_0+\\beta_1x_i$$\n",
    "これを変形すると$$\\lambda_i=exp(\\beta_0+\\beta_1x_i)$$となる。\\\n",
    "植物の大きさxiとパラメータβiから平均種子数λiが得られ、大きさxiの植物個体が従うポワソン分布が求まる。"
   ]
  },
  {
   "cell_type": "code",
   "execution_count": 6,
   "metadata": {},
   "outputs": [
    {
     "data": {
      "image/png": "[encoded data removed]",
      "text/plain": [
       "<Figure size 432x288 with 1 Axes>"
      ]
     },
     "metadata": {
      "needs_background": "light"
     },
     "output_type": "display_data"
    }
   ],
   "source": [
    "#平均種子数と体の大きさの関係を図示\n",
    "x = np.arange(0,30,1)\n",
    "beta_0 = 1\n",
    "beta_1 = 0.1\n",
    "lam = np.exp(beta_0 + beta_1*x)\n",
    "\n",
    "plt.plot(x, lam)\n",
    "plt.xlabel('x')\n",
    "plt.ylabel('λ')\n",
    "plt.show()"
   ]
  },
  {
   "attachments": {},
   "cell_type": "markdown",
   "metadata": {},
   "source": [
    "この曲線が、xiとyiのデータセットに対して引こうとしている曲線となる。\\\n",
    "未定なパラメータλに関しては最尤推定法によって推定する。"
   ]
  },
  {
   "attachments": {},
   "cell_type": "markdown",
   "metadata": {},
   "source": [
    "## PythonでGLMを実践"
   ]
  },
  {
   "cell_type": "code",
   "execution_count": 7,
   "metadata": {},
   "outputs": [],
   "source": [
    "import pandas as pd\n",
    "import numpy as np\n",
    "import matplotlib.pyplot as plt\n",
    "import seaborn as sns\n",
    "sns.set()\n",
    "\n",
    "import statsmodels.api as sm\n",
    "import statsmodels.formula.api as smf\n",
    "\n",
    "from sklearn.datasets import load_boston"
   ]
  },
  {
   "cell_type": "code",
   "execution_count": 8,
   "metadata": {},
   "outputs": [
    {
     "name": "stderr",
     "output_type": "stream",
     "text": [
      "c:\\Users\\ayumi\\anaconda3\\lib\\site-packages\\sklearn\\utils\\deprecation.py:87: FutureWarning: Function load_boston is deprecated; `load_boston` is deprecated in 1.0 and will be removed in 1.2.\n",
      "\n",
      "    The Boston housing prices dataset has an ethical problem. You can refer to\n",
      "    the documentation of this function for further details.\n",
      "\n",
      "    The scikit-learn maintainers therefore strongly discourage the use of this\n",
      "    dataset unless the purpose of the code is to study and educate about\n",
      "    ethical issues in data science and machine learning.\n",
      "\n",
      "    In this special case, you can fetch the dataset from the original\n",
      "    source::\n",
      "\n",
      "        import pandas as pd\n",
      "        import numpy as np\n",
      "\n",
      "        data_url = \"http://lib.stat.cmu.edu/datasets/boston\"\n",
      "        raw_df = pd.read_csv(data_url, sep=\"\\s+\", skiprows=22, header=None)\n",
      "        data = np.hstack([raw_df.values[::2, :], raw_df.values[1::2, :2]])\n",
      "        target = raw_df.values[1::2, 2]\n",
      "\n",
      "    Alternative datasets include the California housing dataset (i.e.\n",
      "    :func:`~sklearn.datasets.fetch_california_housing`) and the Ames housing\n",
      "    dataset. You can load the datasets as follows::\n",
      "\n",
      "        from sklearn.datasets import fetch_california_housing\n",
      "        housing = fetch_california_housing()\n",
      "\n",
      "    for the California housing dataset and::\n",
      "\n",
      "        from sklearn.datasets import fetch_openml\n",
      "        housing = fetch_openml(name=\"house_prices\", as_frame=True)\n",
      "\n",
      "    for the Ames housing dataset.\n",
      "  warnings.warn(msg, category=FutureWarning)\n"
     ]
    }
   ],
   "source": [
    "boston = load_boston()\n",
    "boston_df = pd.DataFrame(boston.data, columns=boston.feature_names)\n",
    "\n",
    "#説明変数xと目的変数yを準備\n",
    "boston_df['PRICE'] = boston.target\n",
    "x = boston_df.drop('PRICE', axis=1)\n",
    "y = boston_df['PRICE']"
   ]
  },
  {
   "cell_type": "code",
   "execution_count": 9,
   "metadata": {},
   "outputs": [
    {
     "name": "stdout",
     "output_type": "stream",
     "text": [
      ".. _boston_dataset:\n",
      "\n",
      "Boston house prices dataset\n",
      "---------------------------\n",
      "\n",
      "**Data Set Characteristics:**  \n",
      "\n",
      "    :Number of Instances: 506 \n",
      "\n",
      "    :Number of Attributes: 13 numeric/categorical predictive. Median Value (attribute 14) is usually the target.\n",
      "\n",
      "    :Attribute Information (in order):\n",
      "        - CRIM     per capita crime rate by town\n",
      "        - ZN       proportion of residential land zoned for lots over 25,000 sq.ft.\n",
      "        - INDUS    proportion of non-retail business acres per town\n",
      "        - CHAS     Charles River dummy variable (= 1 if tract bounds river; 0 otherwise)\n",
      "        - NOX      nitric oxides concentration (parts per 10 million)\n",
      "        - RM       average number of rooms per dwelling\n",
      "        - AGE      proportion of owner-occupied units built prior to 1940\n",
      "        - DIS      weighted distances to five Boston employment centres\n",
      "        - RAD      index of accessibility to radial highways\n",
      "        - TAX      full-value property-tax rate per $10,000\n",
      "        - PTRATIO  pupil-teacher ratio by town\n",
      "        - B        1000(Bk - 0.63)^2 where Bk is the proportion of black people by town\n",
      "        - LSTAT    % lower status of the population\n",
      "        - MEDV     Median value of owner-occupied homes in $1000's\n",
      "\n",
      "    :Missing Attribute Values: None\n",
      "\n",
      "    :Creator: Harrison, D. and Rubinfeld, D.L.\n",
      "\n",
      "This is a copy of UCI ML housing dataset.\n",
      "https://archive.ics.uci.edu/ml/machine-learning-databases/housing/\n",
      "\n",
      "\n",
      "This dataset was taken from the StatLib library which is maintained at Carnegie Mellon University.\n",
      "\n",
      "The Boston house-price data of Harrison, D. and Rubinfeld, D.L. 'Hedonic\n",
      "prices and the demand for clean air', J. Environ. Economics & Management,\n",
      "vol.5, 81-102, 1978.   Used in Belsley, Kuh & Welsch, 'Regression diagnostics\n",
      "...', Wiley, 1980.   N.B. Various transformations are used in the table on\n",
      "pages 244-261 of the latter.\n",
      "\n",
      "The Boston house-price data has been used in many machine learning papers that address regression\n",
      "problems.   \n",
      "     \n",
      ".. topic:: References\n",
      "\n",
      "   - Belsley, Kuh & Welsch, 'Regression diagnostics: Identifying Influential Data and Sources of Collinearity', Wiley, 1980. 244-261.\n",
      "   - Quinlan,R. (1993). Combining Instance-Based and Model-Based Learning. In Proceedings on the Tenth International Conference of Machine Learning, 236-243, University of Massachusetts, Amherst. Morgan Kaufmann.\n",
      "\n"
     ]
    }
   ],
   "source": [
    "print(boston.DESCR)"
   ]
  },
  {
   "cell_type": "code",
   "execution_count": 11,
   "metadata": {},
   "outputs": [
    {
     "data": {
      "text/plain": [
       "<AxesSubplot:xlabel='PRICE', ylabel='RM'>"
      ]
     },
     "execution_count": 11,
     "metadata": {},
     "output_type": "execute_result"
    },
    {
     "data": {
      "image/png": "[encoded data removed]",
      "text/plain": [
       "<Figure size 432x288 with 1 Axes>"
      ]
     },
     "metadata": {},
     "output_type": "display_data"
    }
   ],
   "source": [
    "column = 'RM'\n",
    "sns.scatterplot(x='PRICE', y=columns, data=boston_df[['PRICE', column]])"
   ]
  },
  {
   "attachments": {},
   "cell_type": "markdown",
   "metadata": {},
   "source": [
    "### モデリング"
   ]
  },
  {
   "cell_type": "code",
   "execution_count": 16,
   "metadata": {},
   "outputs": [],
   "source": [
    "#説明変数と目的変数を一つの行列にする\n",
    "data = boston_df\n",
    "\n",
    "#線形予測子を定義\n",
    "formula = 'PRICE ~ 1 + RM'\n",
    "\n",
    "#リンク関数を定義\n",
    "link = sm.genmod.families.links.log()\n",
    "link_gauss = sm.genmod.families.links.identity()\n",
    "\n",
    "#確率分布を定義\n",
    "family = sm.families.Poisson(link=link)\n",
    "family_gauss = sm.families.Gaussian(link=link_gauss)\n",
    "\n",
    "#モデリング（ポワソン分布）\n",
    "model = smf.glm(formula=formula, data=data, family=family)\n",
    "\n",
    "#モデリング（正規分布）\n",
    "model_gauss = smf.glm(formula=formula, data=data, family=family_gauss)\n",
    "\n",
    "#推定\n",
    "result = model.fit()\n",
    "result_gauss = model_gauss.fit()\n"
   ]
  },
  {
   "cell_type": "code",
   "execution_count": 17,
   "metadata": {},
   "outputs": [
    {
     "name": "stdout",
     "output_type": "stream",
     "text": [
      "----モデリング結果----\n",
      "\n",
      "                 Generalized Linear Model Regression Results                  \n",
      "==============================================================================\n",
      "Dep. Variable:                  PRICE   No. Observations:                  506\n",
      "Model:                            GLM   Df Residuals:                      504\n",
      "Model Family:                 Poisson   Df Model:                            1\n",
      "Link Function:                    log   Scale:                          1.0000\n",
      "Method:                          IRLS   Log-Likelihood:                -1689.2\n",
      "Date:                Tue, 10 Jan 2023   Deviance:                       908.46\n",
      "Time:                        23:36:56   Pearson chi2:                     939.\n",
      "No. Iterations:                     4   Pseudo R-squ. (CS):             0.8229\n",
      "Covariance Type:            nonrobust                                         \n",
      "==============================================================================\n",
      "                 coef    std err          z      P>|z|      [0.025      0.975]\n",
      "------------------------------------------------------------------------------\n",
      "Intercept      0.7139      0.081      8.852      0.000       0.556       0.872\n",
      "RM             0.3763      0.012     30.454      0.000       0.352       0.400\n",
      "==============================================================================\n",
      "----モデリング結果(model_gauss)----\n",
      "\n",
      "                 Generalized Linear Model Regression Results                  \n",
      "==============================================================================\n",
      "Dep. Variable:                  PRICE   No. Observations:                  506\n",
      "Model:                            GLM   Df Residuals:                      504\n",
      "Model Family:                Gaussian   Df Model:                            1\n",
      "Link Function:               identity   Scale:                          43.774\n",
      "Method:                          IRLS   Log-Likelihood:                -1673.1\n",
      "Date:                Tue, 10 Jan 2023   Deviance:                       22062.\n",
      "Time:                        23:36:56   Pearson chi2:                 2.21e+04\n",
      "No. Iterations:                     3   Pseudo R-squ. (CS):             0.6064\n",
      "Covariance Type:            nonrobust                                         \n",
      "==============================================================================\n",
      "                 coef    std err          z      P>|z|      [0.025      0.975]\n",
      "------------------------------------------------------------------------------\n",
      "Intercept    -34.6706      2.650    -13.084      0.000     -39.864     -29.477\n",
      "RM             9.1021      0.419     21.722      0.000       8.281       9.923\n",
      "==============================================================================\n"
     ]
    }
   ],
   "source": [
    "print('----モデリング結果----')\n",
    "print()\n",
    "print(result.summary())\n",
    "print('----モデリング結果(model_gauss)----')\n",
    "print()\n",
    "print(result_gauss.summary())"
   ]
  },
  {
   "cell_type": "code",
   "execution_count": 18,
   "metadata": {},
   "outputs": [
    {
     "name": "stdout",
     "output_type": "stream",
     "text": [
      "AIC\n",
      "3382.3210451034556\n",
      "\n",
      "AIC(model_gauss)\n",
      "3350.151117225073\n",
      "\n"
     ]
    }
   ],
   "source": [
    "#AICの確認\n",
    "print('AIC')\n",
    "print(result.aic)\n",
    "print()\n",
    "print('AIC(model_gauss)')\n",
    "print(result_gauss.aic)\n",
    "print()"
   ]
  },
  {
   "attachments": {},
   "cell_type": "markdown",
   "metadata": {},
   "source": [
    "### 作成したモデルでプロット"
   ]
  },
  {
   "cell_type": "code",
   "execution_count": 19,
   "metadata": {},
   "outputs": [
    {
     "data": {
      "image/png": "[encoded data removed]",
      "text/plain": [
       "<Figure size 432x432 with 1 Axes>"
      ]
     },
     "metadata": {},
     "output_type": "display_data"
    }
   ],
   "source": [
    "y_hat = result.predict(x)\n",
    "y_hat_gauss = result_gauss.predict(x)\n",
    "\n",
    "fig = plt.figure(figsize=(6.0,6.0))\n",
    "plt.plot(x['RM'], y, 'o', label='data')\n",
    "plt.plot(x['RM'], y_hat, '*', label='RM')\n",
    "plt.plot(x['RM'], y_hat_gauss, '*', label='RM: gauss')\n",
    "plt.xlabel('x (RM)'), plt.ylabel('y (PRICE)')\n",
    "plt.legend()\n",
    "plt.show()"
   ]
  },
  {
   "cell_type": "code",
   "execution_count": null,
   "metadata": {},
   "outputs": [],
   "source": []
  }
 ],
 "metadata": {
  "kernelspec": {
   "display_name": "tf3",
   "language": "python",
   "name": "tf3"
  },
  "language_info": {
   "codemirror_mode": {
    "name": "ipython",
    "version": 3
   },
   "file_extension": ".py",
   "mimetype": "text/x-python",
   "name": "python",
   "nbconvert_exporter": "python",
   "pygments_lexer": "ipython3",
   "version": "3.9.12"
  },
  "orig_nbformat": 4
 },
 "nbformat": 4,
 "nbformat_minor": 2
}
