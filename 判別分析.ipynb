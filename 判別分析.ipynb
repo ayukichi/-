{
 "cells": [
  {
   "attachments": {},
   "cell_type": "markdown",
   "metadata": {},
   "source": [
    "## フィッシャーの線形判別分析"
   ]
  },
  {
   "cell_type": "code",
   "execution_count": 1,
   "metadata": {},
   "outputs": [],
   "source": [
    "import numpy as np\n",
    "import matplotlib.pyplot as plt"
   ]
  },
  {
   "cell_type": "code",
   "execution_count": 5,
   "metadata": {},
   "outputs": [
    {
     "data": {
      "image/png": "[encoded data removed]",
      "text/plain": [
       "<Figure size 432x288 with 1 Axes>"
      ]
     },
     "metadata": {
      "needs_background": "light"
     },
     "output_type": "display_data"
    },
    {
     "name": "stdout",
     "output_type": "stream",
     "text": [
      "w = [[-0.03817095]\n",
      " [-0.02307965]] \n",
      "\n"
     ]
    }
   ],
   "source": [
    "dim = 2\n",
    "\n",
    "#直線の式\n",
    "def f(x, a, b):\n",
    "    return a*x + b\n",
    "\n",
    "def plot(cls1, cls2, line=None):\n",
    "    x, y = cls1.T\n",
    "    plt.plot(x, y, 'bo', ms=3, label='class1')\n",
    "    x, y = cls2.T\n",
    "    plt.plot(x, y, 'ro', ms=3, label='class2')\n",
    "\n",
    "    if not (line is None):\n",
    "        plt.plot(line[0], line[1], 'k-', ms=5)\n",
    "\n",
    "    plt.xlim(-10,10)\n",
    "    plt.ylim(-10,10)\n",
    "\n",
    "    plt.show()\n",
    "\n",
    "def fisher(cls1, cls2):\n",
    "    #リストから行列に変換\n",
    "    cls1 = np.array(cls1)\n",
    "    cls2 = np.array(cls2)\n",
    "\n",
    "    #各クラスの平均値\n",
    "    mean1 = np.mean(cls1, axis=0)\n",
    "    mean2 = np.mean(cls2, axis=0)\n",
    "\n",
    "    #総クラス内共分散行列\n",
    "    sw = np.zeros((dim, dim))\n",
    "    for xn in cls1:\n",
    "        xn = xn.reshape(dim,1)\n",
    "        mean1 = mean1.reshape(dim,1)\n",
    "        sw += np.dot((xn-mean1),(xn-mean1).T)\n",
    "    for xn in cls2:\n",
    "        xn = xn.reshape(dim,1)\n",
    "        mean2 = mean2.reshape(dim,1)\n",
    "        sw += np.dot((xn-mean2),(xn-mean2).T)\n",
    "    \n",
    "    #総クラス内共分散行列の逆行列\n",
    "    sw_inv = np.linalg.inv(sw)\n",
    "\n",
    "    #wを求める\n",
    "    w = np.dot(sw_inv, (mean1-mean2))\n",
    "\n",
    "    #決定境界直線を図示する\n",
    "    mean = (mean1 + mean2)/2\n",
    "    a = -w[0]/w[1]\n",
    "    b = a*mean[0]+mean[1]\n",
    "    x = np.linspace(-8, 8, 1000)\n",
    "    y = f(x, a, b)\n",
    "\n",
    "    plot(cls1, cls2, (x,y))\n",
    "\n",
    "    return w\n",
    "\n",
    "if __name__ == '__main__':\n",
    "    #テスト用データ作成\n",
    "    cov = [[3,1],[1,3]]\n",
    "    cls1 = np.random.multivariate_normal([-5,-5], cov, 50)\n",
    "    cls2 = np.random.multivariate_normal([5,5], cov, 50)\n",
    "\n",
    "    #fisherで線形変換ベクトルｗを求める\n",
    "    w = fisher(cls1, cls2)\n",
    "    print('w =', w, '\\n')"
   ]
  },
  {
   "cell_type": "code",
   "execution_count": null,
   "metadata": {},
   "outputs": [],
   "source": []
  }
 ],
 "metadata": {
  "kernelspec": {
   "display_name": "tf3",
   "language": "python",
   "name": "tf3"
  },
  "language_info": {
   "codemirror_mode": {
    "name": "ipython",
    "version": 3
   },
   "file_extension": ".py",
   "mimetype": "text/x-python",
   "name": "python",
   "nbconvert_exporter": "python",
   "pygments_lexer": "ipython3",
   "version": "3.9.12"
  },
  "orig_nbformat": 4,
  "vscode": {
   "interpreter": {
    "hash": "98b1f30ac5df02b4930ff246d2434191435cfec7d70a03081f5a2978927f5e82"
   }
  }
 },
 "nbformat": 4,
 "nbformat_minor": 2
}
